{
 "cells": [
  {
   "cell_type": "code",
   "execution_count": 1,
   "metadata": {
    "collapsed": true
   },
   "outputs": [],
   "source": [
    "%load_ext autoreload\n",
    "%autoreload 2"
   ]
  },
  {
   "cell_type": "code",
   "execution_count": 2,
   "metadata": {
    "collapsed": true
   },
   "outputs": [],
   "source": [
    "import numpy as np\n",
    "import scipy as sp\n",
    "from matplotlib.pyplot import *\n",
    "import matplotlib.pyplot as plt\n",
    "%matplotlib inline\n",
    "import VersionZeroPointZero as PSS\n",
    "from scipy import signal"
   ]
  },
  {
   "cell_type": "code",
   "execution_count": 3,
   "metadata": {},
   "outputs": [],
   "source": [
    "def Convolution(pulsar_object,input_array):\n",
    "    \"\"\"\n",
    "    General convolution function. Takes an input array made in other functions\n",
    "    to convolve with the pulse profile.\n",
    "    \n",
    "    Parameters\n",
    "    ---\n",
    "    pulsar_object: VersionZeroPointZero.pulsar.Pulsar object\n",
    "        The pulsar object\n",
    "    input_array: somewhere\n",
    "        Any array the user wants to convolve with the pulse profile\n",
    "    \"\"\"\n",
    "    \n",
    "    width = pulsar_object.nBinsPeriod\n",
    "    for ii, freq in enumerate(pulsar_object.Signal_in.freq_Array):\n",
    "        #Normalizing the pulse profile\n",
    "        pulsar_prof_sum = np.sum(pulsar_object.profile[ii,:])\n",
    "        pulsar_prof_norm = pulsar_object.profile[ii,:] / pulsar_prof_sum\n",
    "        \n",
    "        #Normalizing the input array\n",
    "        print(len(input_array))\n",
    "        input_array_sum = np.sum(input_array[ii,:])\n",
    "        input_array_norm = input_array[ii,:] / input_array_sum\n",
    "        \n",
    "        #Convolving the input array with the pulse profile\n",
    "        convolved_prof = sp.convolve(pulsar_prof_norm, input_array_norm,\"full\")\n",
    "        \n",
    "        #Renormalizing the convolved pulse profile\n",
    "        pulsar_object.profile[ii,:] = (pulsar_prof_sum)*(convolved_prof[:width])"
   ]
  },
  {
   "cell_type": "code",
   "execution_count": 4,
   "metadata": {},
   "outputs": [],
   "source": [
    "def DMBroaden2(pulsar_object,signal_object):\n",
    "    \"\"\"\n",
    "    This is a function that makes a top hat function.\n",
    "    Calls general convolution function to convolve with pulse profile.\n",
    "    See PATH/TO/CONVOLUTION for more information.\n",
    "       \n",
    "    Parameters\n",
    "    ---------\n",
    "    pulsar_object: VersionZeroPointZero.pulsar.Pulsar object\n",
    "        The pulsar object \n",
    "    signal_object: VersionZeroPointZero.signal.Signal\n",
    "        The signal object\n",
    "    \n",
    "    Notes\n",
    "    -----\n",
    "    Also records the DM widths in the MetaData of the signal object.\n",
    "    \"\"\" \n",
    "    \n",
    "    dm_widths = np.zeros(pulsar_object.Nf)\n",
    "    lowest_freq_top_hat_width = int(PSS.utils.top_hat_width(pulsar_object.bw / pulsar_object.Nf, pulsar_object.Signal_in.freq_Array[0], 100) // pulsar_object.TimeBinSize)    \n",
    "    tophat_array = np.zeros((pulsar_object.Nf,lowest_freq_top_hat_width))\n",
    "    \n",
    "    for ii, freq in enumerate(pulsar_object.Signal_in.freq_Array):\n",
    "        #Creating the top hat array\n",
    "        \n",
    "        sub_band_width = pulsar_object.bw / pulsar_object.Nf\n",
    "        tophat_width = int(PSS.utils.top_hat_width(sub_band_width, freq, signal_object.MetaData.DM) // pulsar_object.TimeBinSize)\n",
    "        if tophat_width > pulsar_object.Nt:\n",
    "            raise ValueError('Too Much DM! Dispersion broadening top hat wider than data array!')\n",
    "        dm_widths[ii] = tophat_width\n",
    "        tophat = signal.boxcar(tophat_width)\n",
    "        tophat_len=len(tophat)\n",
    "        tophat = np.append(tophat,np.zeros(lowest_freq_top_hat_width-tophat_len))\n",
    "        tophat_array[ii,:] = tophat\n",
    "        #for i in tophat:\n",
    "         #   np.append(tophat,np.zeros(len(tophat[0]-len(tophat[i]))))\n",
    "    #Calling the general convolution\n",
    "    Convolution(pulsar_object,tophat_array)\n",
    "    Dict = {'dm_widths':dm_widths}\n",
    "    signal_object.MetaData.AddInfo(Dict)"
   ]
  },
  {
   "cell_type": "code",
   "execution_count": null,
   "metadata": {
    "collapsed": true
   },
   "outputs": [],
   "source": []
  },
  {
   "cell_type": "code",
   "execution_count": 5,
   "metadata": {
    "collapsed": true
   },
   "outputs": [],
   "source": [
    "def DMBroaden(pulsar_object, signal_object):\n",
    "    \"\"\"\n",
    "    This is a function that convolves a pulsar profile with a top hat function\n",
    "    to simulate the process of dispersion broadening.\n",
    "       \n",
    "    Parameters\n",
    "    ---------\n",
    "    pulsar_object: VersionZeroPointZero.pulsar.Pulsar object\n",
    "        The pulsar object \n",
    "    signal_object: VersionZeroPointZero.signal.Signal\n",
    "        The signal object\n",
    "    \n",
    "    Notes\n",
    "    -----\n",
    "    Also records the DM widths in the MetaData of the signal object.\n",
    "    \"\"\"\n",
    "    width2 = pulsar_object.nBinsPeriod\n",
    "    dm_widths = np.zeros(pulsar_object.Nf)\n",
    "    for ii, freq in enumerate(pulsar_object.Signal_in.freq_Array):\n",
    "        sub_band_width = pulsar_object.bw/pulsar_object.Nf\n",
    "        width = int(PSS.utils.top_hat_width(sub_band_width, freq, signal_object.MetaData.DM)//pulsar_object.TimeBinSize)\n",
    "        if width > pulsar_object.Nt:\n",
    "            raise ValueError('Too Much DM! Dispersion broadening top hat wider than data array!')\n",
    "        dm_widths[ii] = width\n",
    "        pulsar_prof_sum = np.sum(pulsar_object.profile[ii,:])\n",
    "        pulsar_prof_norm = pulsar_object.profile[ii,:] / pulsar_prof_sum\n",
    "        tophat=signal.boxcar(width)/width\n",
    "        tophat=np.append(tophat,np.zeros(100))\n",
    "        convolved_prof = sp.convolve(pulsar_object.profile[ii,:], tophat,\"full\")\n",
    "        \n",
    "        #Renormalizing the pulse profile \n",
    "        pulsar_object.profile[ii,:] = (convolved_prof[:width2])\n",
    "    Dict = {'dm_widths':dm_widths}\n",
    "    signal_object.MetaData.AddInfo(Dict)"
   ]
  },
  {
   "cell_type": "code",
   "execution_count": 6,
   "metadata": {
    "collapsed": true
   },
   "outputs": [],
   "source": [
    "def Scatter(pulsar_object, signal_object,tau_d_in=1):\n",
    "    \"\"\"\n",
    "    This is a function that convolves a pulsar profile with an exponential function\n",
    "    to simulate the process of scattering.\n",
    "       \n",
    "    Parameters\n",
    "    ---------\n",
    "    pulsar_object: VersionZeroPointZero.pulsar.Pulsar object\n",
    "        The pulsar object \n",
    "    signal_object: VersionZeroPointZero.signal.Signal\n",
    "        The signal object\n",
    "    tau_d_in: VersionZeroPointZero.scintillation.scale_tau_d\n",
    "        The scattering time\n",
    "        In units of milliseconds, default 1ms\n",
    "        See Cordes et al. 1990\n",
    "    \"\"\"\n",
    "    width = pulsar_object.nBinsPeriod\n",
    "    tau_scatter_time = PSS.scintillation.scale_tau_d(tau_d = tau_d_in,nu_i = signal_object.f0,nu_f = signal_object.freq_Array)\n",
    "    tau_scatter_bins = tau_scatter_time / signal_object.TimeBinSize\n",
    "    t = np.linspace(0,pulsar_object.T,width)\n",
    "    #Iterating over the tau arrays where each profile \n",
    "    #corresponds to the respective tau index\n",
    "    for ii, tau_scatter in enumerate(tau_scatter_time): \n",
    "        EXP = (np.exp(-t/tau_scatter))\n",
    "        EXP_sum = np.sum(EXP)\n",
    "        EXP_norm = EXP / EXP_sum\n",
    "        pulsar_prof_sum = np.sum(pulsar_object.profile[ii,:])\n",
    "        pulsar_prof_norm = pulsar_object.profile[ii,:] / pulsar_prof_sum\n",
    "        convolved_prof = sp.convolve(pulsar_prof_norm, EXP_norm,\"full\")\n",
    "        #Need to cut the convolved function off at the length of the inital pulsar profile\n",
    "        pulsar_object.profile[ii,:] = (pulsar_prof_sum)*(convolved_prof[:width])"
   ]
  },
  {
   "cell_type": "code",
   "execution_count": 7,
   "metadata": {
    "collapsed": true
   },
   "outputs": [],
   "source": [
    "# I'll put this little gem into the simulator when I have a chance... \n",
    "def ProfilePlot(array, step=1, N=10,Title='Profile by Frequency Channel'):\n",
    "    try:\n",
    "        array_len = len(N)\n",
    "        jj = 0\n",
    "        for ii, jj in enumerate(N):\n",
    "            plot(array[jj,:]+ii*(step),c='k')\n",
    "        n=len(N)\n",
    "    except:\n",
    "        Freq_channels = len(array[:,0])\n",
    "        Freq_step = int(Freq_channels//N)\n",
    "        for ii in range(N):\n",
    "            plot(array[ii*Freq_step,:]+ii*(step),c='k')\n",
    "        n=N\n",
    "    title(Title)\n",
    "    xlabel('Phase')\n",
    "    ylabel('Frequency Channel')\n",
    "    xticks([])\n",
    "    yticks([])\n",
    "    xlim(0,len(array[0,:]))\n",
    "    ylim(0,n*step+0.1)\n",
    "    show()"
   ]
  },
  {
   "cell_type": "code",
   "execution_count": 8,
   "metadata": {
    "collapsed": true
   },
   "outputs": [],
   "source": [
    "# S1=PSS.Signal(Nt=2000)\n",
    "# P1=PSS.Pulsar(S1)\n",
    "# I1=PSS.ism.ISM(S1)\n",
    "# PSS.ism.ISM.finalize_ism(I1)"
   ]
  },
  {
   "cell_type": "code",
   "execution_count": 9,
   "metadata": {
    "collapsed": true
   },
   "outputs": [],
   "source": [
    "# peak3 = np.random.randn(20*3)*0.01 + 0.2\n",
    "# width3 = abs(np.random.randn(20*3)*0.002 +0.012)\n",
    "# amp3 = np.random.randn(20*3)**2\n",
    "# peak3.resize(20,3)\n",
    "# width3.resize(20,3)\n",
    "# amp3.resize(20,3)\n",
    "# P1.gauss_template(peak=peak3,width=width3,amp=amp3)"
   ]
  },
  {
   "cell_type": "code",
   "execution_count": 10,
   "metadata": {},
   "outputs": [],
   "source": [
    "# P1.make_pulses()\n",
    "# plt.plot(P1.signal[5],label=\"Noisy Signal\")\n",
    "# plt.legend()\n",
    "# plt.show()\n",
    "# ProfilePlot(P1.profile)\n",
    "# imshow(P1.profile,aspect='auto')"
   ]
  },
  {
   "cell_type": "code",
   "execution_count": 11,
   "metadata": {
    "collapsed": true
   },
   "outputs": [],
   "source": [
    "# S4=PSS.Signal(Nt=2000,mode='simulate')\n",
    "# P4=PSS.Pulsar(S4)\n",
    "# I4=PSS.ISM(S4,mode='simulate')\n",
    "# I4.finalize_ism() "
   ]
  },
  {
   "cell_type": "code",
   "execution_count": 12,
   "metadata": {},
   "outputs": [],
   "source": [
    "# DMBroaden(P4,S4)\n",
    "# P4.make_pulses()\n",
    "# plt.plot(P4.signal[5],label=\"Broadened Noisy Signal\")\n",
    "# plt.legend()\n",
    "# plt.show()\n",
    "# ProfilePlot(P4.profile)\n",
    "# imshow(P4.profile,aspect='auto')"
   ]
  },
  {
   "cell_type": "markdown",
   "metadata": {},
   "source": [
    "# Working on convolving with an exponential"
   ]
  },
  {
   "cell_type": "code",
   "execution_count": 13,
   "metadata": {
    "collapsed": true
   },
   "outputs": [],
   "source": [
    "# S2=PSS.Signal(Nt=2000,mode='simulate')\n",
    "# P2=PSS.Pulsar(S2)\n",
    "# I2=PSS.ISM(S2,mode='simulate')\n",
    "# I2.finalize_ism() "
   ]
  },
  {
   "cell_type": "code",
   "execution_count": 14,
   "metadata": {
    "collapsed": true
   },
   "outputs": [],
   "source": [
    "# DMBroaden(P2,S2)\n",
    "# Scatter(P2,S2,3)"
   ]
  },
  {
   "cell_type": "code",
   "execution_count": 15,
   "metadata": {
    "collapsed": true
   },
   "outputs": [],
   "source": [
    "# P2.make_pulses()"
   ]
  },
  {
   "cell_type": "code",
   "execution_count": 16,
   "metadata": {
    "scrolled": true
   },
   "outputs": [],
   "source": [
    "# plt.plot(P2.signal[5],label=\"Broadened Noisy Signal\")\n",
    "# plt.legend()\n",
    "# plt.show()"
   ]
  },
  {
   "cell_type": "code",
   "execution_count": 17,
   "metadata": {},
   "outputs": [],
   "source": [
    "# ProfilePlot(P2.profile)"
   ]
  },
  {
   "cell_type": "code",
   "execution_count": 18,
   "metadata": {},
   "outputs": [],
   "source": [
    "# imshow(P2.profile,aspect='auto')"
   ]
  },
  {
   "cell_type": "code",
   "execution_count": 19,
   "metadata": {
    "collapsed": true
   },
   "outputs": [],
   "source": [
    "# S3=PSS.Signal(Nt=2000,mode='simulate')\n",
    "# P3=PSS.Pulsar(S3)\n",
    "# I3=PSS.ISM(S3,mode='simulate')\n",
    "# I3.finalize_ism() \n",
    "# Scatter(P3,S3,3)\n",
    "# P3.make_pulses()\n",
    "# imshow(P3.profile,aspect='auto')"
   ]
  },
  {
   "cell_type": "code",
   "execution_count": 20,
   "metadata": {},
   "outputs": [
    {
     "data": {
      "image/png": "[encoded data removed]",
      "text/plain": [
       "<matplotlib.figure.Figure at 0x115c58e10>"
      ]
     },
     "metadata": {},
     "output_type": "display_data"
    },
    {
     "data": {
      "image/png": "[encoded data removed]",
      "text/plain": [
       "<matplotlib.figure.Figure at 0x118312eb8>"
      ]
     },
     "metadata": {},
     "output_type": "display_data"
    },
    {
     "data": {
      "text/plain": [
       "<matplotlib.image.AxesImage at 0x11853d2b0>"
      ]
     },
     "execution_count": 20,
     "metadata": {},
     "output_type": "execute_result"
    },
    {
     "data": {
      "image/png": "[encoded data removed]",
      "text/plain": [
       "<matplotlib.figure.Figure at 0x118312f98>"
      ]
     },
     "metadata": {},
     "output_type": "display_data"
    }
   ],
   "source": [
    "S5=PSS.Signal(Nt=2000,mode='simulate')\n",
    "P5=PSS.Pulsar(S5)\n",
    "I5=PSS.ISM(S5,mode='simulate')\n",
    "I5.finalize_ism()\n",
    "peak3 = np.random.randn(20*3)*0.01 + 0.2\n",
    "width3 = abs(np.random.randn(20*3)*0.002 +0.012)\n",
    "amp3 = np.random.randn(20*3)**2\n",
    "peak3.resize(20,3)\n",
    "width3.resize(20,3)\n",
    "amp3.resize(20,3)\n",
    "P5.gauss_template(peak=peak3,width=width3,amp=amp3)\n",
    "DMBroaden(P5,S5)\n",
    "P5.make_pulses()\n",
    "plt.plot(P5.signal[5],label=\"Broadened Noisy Signal\")\n",
    "plt.legend()\n",
    "plt.show()\n",
    "ProfilePlot(P5.profile,N=20)\n",
    "imshow(P5.profile,aspect='auto')"
   ]
  },
  {
   "cell_type": "code",
   "execution_count": null,
   "metadata": {
    "collapsed": true
   },
   "outputs": [],
   "source": []
  }
 ],
 "metadata": {
  "anaconda-cloud": {},
  "kernelspec": {
   "display_name": "Python 3",
   "language": "python",
   "name": "python3"
  },
  "language_info": {
   "codemirror_mode": {
    "name": "ipython",
    "version": 3
   },
   "file_extension": ".py",
   "mimetype": "text/x-python",
   "name": "python",
   "nbconvert_exporter": "python",
   "pygments_lexer": "ipython3",
   "version": "3.6.1"
  }
 },
 "nbformat": 4,
 "nbformat_minor": 1
}
