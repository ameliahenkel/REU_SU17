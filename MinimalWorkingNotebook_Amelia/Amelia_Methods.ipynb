{
 "cells": [
  {
   "cell_type": "code",
   "execution_count": 2,
   "metadata": {
    "collapsed": false
   },
   "outputs": [],
   "source": [
    "%load_ext autoreload\n",
    "%autoreload 2"
   ]
  },
  {
   "cell_type": "code",
   "execution_count": 3,
   "metadata": {
    "collapsed": false
   },
   "outputs": [],
   "source": [
    "import numpy as np\n",
    "import scipy as sp\n",
    "from matplotlib.pyplot import *\n",
    "%matplotlib inline\n",
    "import sys\n",
    "sys.path.append('/Users/Poop/REU/')\n",
    "sys.path.append('/Users/Poop/REU/VersionZeroPointZero/')\n",
    "sys.path.append('/Users/jeffreyhazboun/GoogleDrive/PulsarSignalSimulator/PulsarSimulator/')\n",
    "import VersionZeroPointZero as PSS\n",
    "import math\n",
    "import numpy as np"
   ]
  },
  {
   "cell_type": "code",
   "execution_count": 4,
   "metadata": {
    "collapsed": true
   },
   "outputs": [],
   "source": [
    "rcParams['figure.figsize'] = (8.0,5.0)\n",
    "rcParams.update({'font.size': 14})\n",
    "from __future__ import division, print_function"
   ]
  },
  {
   "cell_type": "code",
   "execution_count": null,
   "metadata": {
    "collapsed": false
   },
   "outputs": [],
   "source": [
    "def Disperse(self): # Broadens & delays pulse signal w transfer function defined in PSR Handbook, D. Lorimer and M. Kramer\n",
    "    \"\"\"\n",
    "    add documentation\n",
    "    \"\"\"\n",
    "    Npols = self.Signal_in.Npols\n",
    "    if self.mode == 'exlplore':\n",
    "        self.Signal_in.undispersedsig = np.empty((Npols, self.Nt))\n",
    "    for x in range(Npols):\n",
    "        sig = self.signal[x] \n",
    "        DM = self.DM\n",
    "        f0 = self.f0\n",
    "        dt = self.TimeBinSize\n",
    "        fourier = np.fft.rfft(sig)\n",
    "        freqs = np.fft.rfftfreq(2*len(fourier)-1,d=dt/1e6)*1e3\n",
    "        FinalFreqs = freqs-f0+1e-10 # Added the 1e-10 to avoid division by 0 errors in exponent\n",
    "        H = np.exp(1j*2*np.pi*4.148808e9/((FinalFreqs+f0)*f0**2)*DM*FinalFreqs**2)\n",
    "        product = fourier*H\n",
    "        Dispersed = np.fft.irfft(product) \n",
    "        if self.mode == 'explore':\n",
    "            self.Signal_in.undispersedsig[x] = sig\n",
    "        self.signal[x] = Dispersed"
   ]
  },
  {
   "cell_type": "code",
   "execution_count": null,
   "metadata": {
    "collapsed": false
   },
   "outputs": [],
   "source": [
    "def plot_dispersed(signal_object, polchan = 0): # Plots dispersed sig produced in ISM with Disperse()\n",
    "    lim = signal_object.MetaData.nBins_per_period \n",
    "    print(lim)\n",
    "    if signal_object.SignalType == 'voltage':\n",
    "        title('Voltage vs. Time')\n",
    "        ylabel('Voltage')\n",
    "        xlabel('Time (ms)')\n",
    "        xlim(0,lim)\n",
    "    elif signal_object.SignalType == 'intensity':\n",
    "        title('Intensity vs. Time')\n",
    "        ylabel('Intensity')\n",
    "        xlabel('Time (ms)')\n",
    "        xlim(0,lim)\n",
    "    plot(signal_object.undispersedsig[polchan]+50)\n",
    "    plot(signal_object.signal[polchan]) \n",
    "    show()\n",
    "    # TODO flag about if it hasn't been dispersed yet"
   ]
  },
  {
   "cell_type": "code",
   "execution_count": null,
   "metadata": {
    "collapsed": true
   },
   "outputs": [],
   "source": [
    "def FilterBank(array,step,sampling_freq):\n",
    "    L = int(len(array)//step)\n",
    "    print(L)\n",
    "    PS = np.empty((step//2+1,L))\n",
    "    for ii in range(L):\n",
    "        start = ii*step\n",
    "        stop = (ii+1)*step\n",
    "        f, PS[:,ii] = sp.signal.periodogram(array[start:stop],sampling_freq) # takes mod squared of FFT assuming all\n",
    "        # real time inputs - periodogram is faster than rfft \n",
    "        # also why is there the f, there?\n",
    "    return PS"
   ]
  },
  {
   "cell_type": "code",
   "execution_count": null,
   "metadata": {
    "collapsed": true
   },
   "outputs": [],
   "source": [
    "S1 = PSS.Signal(SignalType='voltage',Nt=10000)\n",
    "P1 = PSS.Pulsar(S1,period=50)"
   ]
  },
  {
   "cell_type": "code",
   "execution_count": null,
   "metadata": {
    "collapsed": true
   },
   "outputs": [],
   "source": [
    "P1.gauss_template(width=0.04)"
   ]
  },
  {
   "cell_type": "code",
   "execution_count": null,
   "metadata": {
    "collapsed": true
   },
   "outputs": [],
   "source": [
    "P1.make_pulses()"
   ]
  },
  {
   "cell_type": "code",
   "execution_count": null,
   "metadata": {
    "collapsed": false
   },
   "outputs": [],
   "source": [
    "S1.MetaData.nBins_per_period == P1.T/P1.Signal_in.TimeBinSize\n",
    "print(type(S1.MetaData.nBins_per_period))\n",
    "print(type(P1.T/P1.Signal_in.TimeBinSize))"
   ]
  },
  {
   "cell_type": "code",
   "execution_count": null,
   "metadata": {
    "collapsed": false
   },
   "outputs": [],
   "source": [
    "S1.pulse_plot()"
   ]
  },
  {
   "cell_type": "code",
   "execution_count": null,
   "metadata": {
    "collapsed": false
   },
   "outputs": [],
   "source": []
  },
  {
   "cell_type": "code",
   "execution_count": null,
   "metadata": {
    "collapsed": false
   },
   "outputs": [],
   "source": [
    "F_pre =FilterBank(S1.signal[0,:],20,1)"
   ]
  },
  {
   "cell_type": "code",
   "execution_count": null,
   "metadata": {
    "collapsed": false
   },
   "outputs": [],
   "source": [
    "imshow(F_pre,aspect='auto',origin='left')"
   ]
  },
  {
   "cell_type": "code",
   "execution_count": null,
   "metadata": {
    "collapsed": true
   },
   "outputs": [],
   "source": [
    "ISM1 = PSS.ISM(S1,DM=50)"
   ]
  },
  {
   "cell_type": "code",
   "execution_count": null,
   "metadata": {
    "collapsed": false
   },
   "outputs": [],
   "source": [
    "Disperse(ISM1)"
   ]
  },
  {
   "cell_type": "code",
   "execution_count": null,
   "metadata": {
    "collapsed": false
   },
   "outputs": [],
   "source": [
    "plot_dispersed(signal_object=S1)\n",
    "show()"
   ]
  },
  {
   "cell_type": "code",
   "execution_count": null,
   "metadata": {
    "collapsed": false
   },
   "outputs": [],
   "source": [
    "FB4 = FilterBank(S1.signal[0,:],40,0.01)\n",
    "imshow(FB4,aspect='auto',origin='left')"
   ]
  },
  {
   "cell_type": "code",
   "execution_count": null,
   "metadata": {
    "collapsed": false
   },
   "outputs": [],
   "source": [
    "samp_freq = 1/(S1.TimeBinSize*1e-3)\n",
    "print(samp_freq)\n",
    "print(S1.Nt)"
   ]
  },
  {
   "cell_type": "code",
   "execution_count": null,
   "metadata": {
    "collapsed": false
   },
   "outputs": [],
   "source": [
    "FB1 = FilterBank(S1.signal[0,:],100,1)"
   ]
  },
  {
   "cell_type": "code",
   "execution_count": null,
   "metadata": {
    "collapsed": false
   },
   "outputs": [],
   "source": [
    "imshow(FB1,aspect='auto',origin='left')"
   ]
  },
  {
   "cell_type": "code",
   "execution_count": null,
   "metadata": {
    "collapsed": false
   },
   "outputs": [],
   "source": [
    "FB2 = FilterBank(dispersed_sig,30,1)"
   ]
  },
  {
   "cell_type": "code",
   "execution_count": null,
   "metadata": {
    "collapsed": false
   },
   "outputs": [],
   "source": [
    "imshow(FB2,aspect='auto',origin='left')\n",
    "show()\n",
    "plot(FB2[5,:])\n",
    "show()"
   ]
  },
  {
   "cell_type": "markdown",
   "metadata": {},
   "source": [
    "__Amelia:__ This looks great!! You see that I've added a function I called FilterBank. What this is doing is taking the FFT of the voltage signal every `step`-number of time bins. It then separates the signal from that time slice into `step//2 + 1` frequency bins (basically the number of bins you'd get in an `numpy.fft.rfft()`. (That is the number of frequency bins in the `rfft` call). I'm using a special function from `scipy` called `scipy.periodogram()` which you can look up, if you want. It does some of the dirty work for us. Anyways, this FilterBank function does what the backend of a telescope would do to a real signal, like the voltage vs. time signal you are working on. It basically calculates the power in different frequencies at different times coming into the telescope. As you can see we're getting qualitatively getting the shape of a dispersed signal. So this means that even though the signal above has bled across the whole band, the FilterBank function still can distinguish the correct different frequencies at different times. \n",
    "\n",
    "The zero channel is the DC offset (i.e. the constant zeroth bin of the rfft). It's is empty because these signals are in fact average zero. \n",
    "\n",
    "We need to do some sort of test on this to see if we are dispersing by the correct amount. I have some ideas, but maybe we can talk about them on Monday. Also, as you can see we lose the signal at higher frequencies. That is because we aren't sampling at a high enough rate to seethose frequencies. We will need to incorporate some quick calculations to make sure we tell users whether their settings will be sufficient enough. \n",
    "\n",
    "The last thing, is that we need to decide how we want to add this signal to the simulator. In general the simulator doesn't really use `global` parameters. It's a nice use here, but we'll want to define something in the simulator that hold the signal for this instance. One could easily imagine a time when someone wants to compare 2 signals, and your function, as it stands, will just write over the `dispersed_sig` array with which ever is calculated last. Normally I actually change the `signal_object.signal` array, but we should decide if that is the best thing to do. \n",
    "\n",
    "Again, this is really fanatastic. "
   ]
  },
  {
   "cell_type": "markdown",
   "metadata": {},
   "source": [
    "__Amelia:__ One last thing. I've added a call to `__future__` at the beginning of the notebook. The simulator is written in `Python 3`, and we want to continue doing that. By importing those functions we can use `Python 3` syntax (print has parenthesis, definition of division `//` vs `/`, and so on)."
   ]
  },
  {
   "cell_type": "markdown",
   "metadata": {
    "collapsed": true
   },
   "source": [
    "# Testing "
   ]
  },
  {
   "cell_type": "markdown",
   "metadata": {},
   "source": [
    "Nt ------- TotTime ------- Period ------- Time disperse() ------- Time plot()\n",
    "5000000 --- 10000 ---------- 30 ------- 2.56s,727ms,3.29,3.3s --------290ms,37.8,328,334 xx\n",
    "2500000 --- 5000 -----------30 -------- 1.41s,466ms,1.88,2.02 -------- 263,38.9,302,301 xx\n",
    "500000 --- 1000 ---------- 30 ------- 265m,103m,368,369ms ---- 285ms,13.5,299,306 xx\n",
    "50000 ---- 100 ------------ 30 ------- 32.1ms, 6.25, 38.4, 38.2?? ----- 294,36.1,330,350 xx\n",
    "5000000 --- 10000 ---------- 50 ------- 4, 8, 12, 38.1 ---------- 14, 6, 20, 43.9 \n",
    "10000 ---- 200 ------------- 50 ------- 6.73MS, 4.1,10.8,19 ----- 369, 114,483,657 xx\n",
    "10000 ---- 200 ------------- 30 ------- 5.88,3.49,9.37,9.52 ----- 219, 33.4, 253,257"
   ]
  },
  {
   "cell_type": "code",
   "execution_count": 96,
   "metadata": {
    "collapsed": false
   },
   "outputs": [],
   "source": [
    "S2 = PSS.Signal(SignalType='voltage',Nt=500000, TotTime=1000,f0=1300)\n",
    "P2 = PSS.Pulsar(S2,period=10)\n",
    "I2 = PSS.ISM(S2,DM=1.8)"
   ]
  },
  {
   "cell_type": "code",
   "execution_count": 97,
   "metadata": {
    "collapsed": false
   },
   "outputs": [],
   "source": [
    "P2.gauss_template(width=0.04)\n",
    "P2.make_pulses()"
   ]
  },
  {
   "cell_type": "code",
   "execution_count": 98,
   "metadata": {
    "collapsed": false
   },
   "outputs": [
    {
     "name": "stdout",
     "output_type": "stream",
     "text": [
      "CPU times: user 263 ms, sys: 114 ms, total: 377 ms\n",
      "Wall time: 405 ms\n"
     ]
    }
   ],
   "source": [
    "%time I2.disperse()"
   ]
  },
  {
   "cell_type": "code",
   "execution_count": 101,
   "metadata": {
    "collapsed": false
   },
   "outputs": [
    {
     "data": {
      "image/png": "[encoded data removed]",
      "text/plain": [
       "<matplotlib.figure.Figure at 0x1136d2ad0>"
      ]
     },
     "metadata": {},
     "output_type": "display_data"
    },
    {
     "name": "stdout",
     "output_type": "stream",
     "text": [
      "CPU times: user 272 ms, sys: 22.3 ms, total: 295 ms\n",
      "Wall time: 308 ms\n"
     ]
    }
   ],
   "source": [
    "#%prun\n",
    "%time PSS.PSS_plot.plot_dispersed(S2, lw=0.5)"
   ]
  },
  {
   "cell_type": "code",
   "execution_count": null,
   "metadata": {
    "collapsed": true
   },
   "outputs": [],
   "source": []
  }
 ],
 "metadata": {
  "anaconda-cloud": {},
  "kernelspec": {
   "display_name": "Python 2",
   "language": "python",
   "name": "python2"
  },
  "language_info": {
   "codemirror_mode": {
    "name": "ipython",
    "version": 2
   },
   "file_extension": ".py",
   "mimetype": "text/x-python",
   "name": "python",
   "nbconvert_exporter": "python",
   "pygments_lexer": "ipython2",
   "version": "2.7.13"
  }
 },
 "nbformat": 4,
 "nbformat_minor": 2
}
